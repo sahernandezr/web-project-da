{
 "cells": [
  {
   "cell_type": "markdown",
   "metadata": {},
   "source": [
    "IMPORTANT: EXPORT THIS FILE AT THE END AS AN PY AND TEST RUN IT ON THE TERMINAL\n",
    "\n",
    "You must obtain data from an API using Python.\n",
    "\n",
    "You must scrape and clean HTML from a web page using Python.\n",
    "\n",
    "The results should be two files - one containing the tabular results of your API request and the other containing the results of your web page scrape.\n",
    "\n",
    "Your code should be saved in a Jupyter Notebook (join both codes -api and web- in one file at the end) and your results should be saved in a folder named output.\n",
    "\n",
    "You must construct a data pipeline with the majority of your code wrapped in functions.\n",
    "\n",
    "Each data pipeline stage should be covered: acquisition, wrangling, analysis, and reporting.\n",
    "\n",
    "You must demonstrate all the topics we covered in the chapter (functions, list comprehensions, string operations, and error handling) in your processing of the data.\n",
    "\n",
    "There should be some data set that gets imported and some result that gets exported.\n",
    "\n",
    "Your code should be saved in a Python executable file (.py), your data should be saved in a folder named data, and your results should be saved in a folder named output.\n",
    "\n"
   ]
  }
 ],
 "metadata": {
  "kernelspec": {
   "display_name": "Python 3",
   "language": "python",
   "name": "python3"
  },
  "language_info": {
   "codemirror_mode": {
    "name": "ipython",
    "version": 3
   },
   "file_extension": ".py",
   "mimetype": "text/x-python",
   "name": "python",
   "nbconvert_exporter": "python",
   "pygments_lexer": "ipython3",
   "version": "3.6.5"
  }
 },
 "nbformat": 4,
 "nbformat_minor": 2
}
